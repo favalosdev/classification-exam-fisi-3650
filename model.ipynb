{
  "cells": [
    {
      "cell_type": "code",
      "metadata": {
        "cell_id": "c7e05b78e22e45daaf870c070352c5c4",
        "tags": [],
        "deepnote_to_be_reexecuted": false,
        "source_hash": "5696117d",
        "execution_start": 1655153996396,
        "execution_millis": 11847,
        "deepnote_cell_type": "code",
        "deepnote_cell_height": 171,
        "id": "vUDKKdna4ds3"
      },
      "source": [
        "import os\n",
        "import pandas as pd\n",
        "import numpy as np\n",
        "\n",
        "import tensorflow as tf\n",
        "from tensorflow.keras.utils import image_dataset_from_directory"
      ],
      "outputs": [],
      "execution_count": null
    },
    {
      "cell_type": "markdown",
      "source": [
        "### Pre-processing"
      ],
      "metadata": {
        "cell_id": "bd70e44f8abb4e1b9eee859ba169bcf3",
        "tags": [],
        "is_collapsed": false,
        "formattedRanges": [],
        "deepnote_cell_type": "text-cell-h3",
        "id": "3AXf_PDT4ds-"
      }
    },
    {
      "cell_type": "code",
      "source": [
        "TRAIN_DIR = './Rice_Image_Dataset/Train/'\n",
        "BATCH_SIZE = 256\n",
        "IMAGE_WIDTH = 256\n",
        "IMAGE_HEIGHT = 256"
      ],
      "metadata": {
        "cell_id": "125daaee81354239b9150e73083376bb",
        "tags": [],
        "deepnote_to_be_reexecuted": false,
        "source_hash": "3fb713ce",
        "execution_start": 1655154015896,
        "execution_millis": 6,
        "deepnote_cell_type": "code",
        "deepnote_cell_height": 135,
        "id": "Pjw3Fzt-4ds_"
      },
      "outputs": [],
      "execution_count": null
    },
    {
      "cell_type": "code",
      "source": [
        "train_ds = image_dataset_from_directory(directory=TRAIN_DIR, batch_size=BATCH_SIZE, image_size=(IMAGE_WIDTH, IMAGE_HEIGHT))"
      ],
      "metadata": {
        "cell_id": "95212f598bb9499d83e63def8d293ea6",
        "tags": [],
        "deepnote_to_be_reexecuted": false,
        "source_hash": "ea6b16cf",
        "execution_start": 1655154020391,
        "execution_millis": 6011,
        "deepnote_cell_type": "code",
        "deepnote_cell_height": 112.1875,
        "colab": {
          "base_uri": "https://localhost:8080/"
        },
        "id": "wOsJOxGQ4dtB",
        "outputId": "728f517e-83b5-448c-ad89-f9109b811632"
      },
      "outputs": [
        {
          "output_type": "stream",
          "name": "stdout",
          "text": [
            "Found 50000 files belonging to 5 classes.\n"
          ]
        }
      ],
      "execution_count": null
    },
    {
      "cell_type": "code",
      "source": [
        "NUM_CLASSES = len(train_ds.class_names)"
      ],
      "metadata": {
        "cell_id": "a35aaf24fa1e418bb72d3b033d2bfbe7",
        "tags": [],
        "deepnote_to_be_reexecuted": false,
        "source_hash": "2bfcfc25",
        "execution_start": 1655154028927,
        "execution_millis": 4,
        "deepnote_cell_type": "code",
        "deepnote_cell_height": 81,
        "id": "qkxMLUjV4dtC"
      },
      "outputs": [],
      "execution_count": null
    },
    {
      "cell_type": "markdown",
      "source": [
        "### Training"
      ],
      "metadata": {
        "cell_id": "dae749bf38e649e6bc878c4123294816",
        "tags": [],
        "is_collapsed": false,
        "formattedRanges": [],
        "deepnote_cell_type": "text-cell-h3",
        "id": "A9hLWlK94dtD"
      }
    },
    {
      "cell_type": "code",
      "source": [
        "# Import needed libraries\n",
        "\n",
        "from tensorflow import keras\n",
        "from keras.models import Sequential\n",
        "from keras.layers import Conv2D, MaxPooling2D, Flatten, Dense, InputLayer, Rescaling"
      ],
      "metadata": {
        "cell_id": "959a20cc64fe40e28ab39d477333d0f7",
        "tags": [],
        "deepnote_to_be_reexecuted": false,
        "source_hash": "78685057",
        "execution_start": 1655154030513,
        "execution_millis": 1,
        "deepnote_cell_type": "code",
        "deepnote_cell_height": 153,
        "id": "yevJOTYV4dtD"
      },
      "outputs": [],
      "execution_count": null
    },
    {
      "cell_type": "code",
      "source": [
        "# Define architecture\n",
        "\n",
        "def build_cnn(image_width, image_height, num_classes):\n",
        "    model = Sequential()\n",
        "\n",
        "    model.add(InputLayer(input_shape=(image_width, image_height, 3)))\n",
        "    \n",
        "    model.add(Rescaling(1./255))\n",
        "\n",
        "    model.add(Conv2D(16, 3, padding='same', activation='elu'))\n",
        "    model.add(Conv2D(32, 3, padding='same', activation='elu'))\n",
        "    model.add(MaxPooling2D(pool_size=(2,2)))\n",
        "       \n",
        "    # Ideally the model should output a label or something\n",
        "    model.add(Flatten())\n",
        "    model.add(Dense(num_classes))\n",
        "\n",
        "    return model"
      ],
      "metadata": {
        "cell_id": "d742b20726e64b78abdce4ee3dc6b26c",
        "tags": [],
        "deepnote_to_be_reexecuted": false,
        "source_hash": "96727f55",
        "execution_start": 1655154032236,
        "execution_millis": 11,
        "deepnote_cell_type": "code",
        "deepnote_cell_height": 387,
        "id": "lAnGes6I4dtE"
      },
      "outputs": [],
      "execution_count": null
    },
    {
      "cell_type": "code",
      "source": [
        "cnn = build_cnn(image_width=IMAGE_WIDTH, image_height=IMAGE_HEIGHT, num_classes=NUM_CLASSES)"
      ],
      "metadata": {
        "cell_id": "633091d43bcf429597144d3920a9293b",
        "tags": [],
        "deepnote_to_be_reexecuted": false,
        "source_hash": "d27665bf",
        "execution_start": 1655154034672,
        "execution_millis": 144,
        "deepnote_cell_type": "code",
        "deepnote_cell_height": 81,
        "id": "7CpprQOu4dtG"
      },
      "outputs": [],
      "execution_count": null
    },
    {
      "cell_type": "code",
      "source": [
        "# Do the actual training\n",
        "cnn.compile(\n",
        "  optimizer='adam',\n",
        "  loss=tf.losses.SparseCategoricalCrossentropy(from_logits=True),\n",
        "  metrics=['accuracy'])"
      ],
      "metadata": {
        "cell_id": "d2bcbd2694624eab806fda4f20f7d8b4",
        "tags": [],
        "deepnote_to_be_reexecuted": false,
        "source_hash": "87cb7864",
        "execution_start": 1655154036324,
        "execution_millis": 9,
        "deepnote_cell_type": "code",
        "deepnote_cell_height": 153,
        "id": "2p7cvoJw4dtH"
      },
      "outputs": [],
      "execution_count": null
    },
    {
      "cell_type": "code",
      "source": [
        "checkpoint_path = \"training_1/cp.ckpt\"\n",
        "checkpoint_dir = os.path.dirname(checkpoint_path)\n",
        "\n",
        "cp_callback = tf.keras.callbacks.ModelCheckpoint(filepath=checkpoint_path,\n",
        "                                                 save_weights_only=True,\n",
        "                                                 verbose=1)\n",
        "\n",
        "cnn.fit(train_ds, epochs=1, callbacks=[cp_callback])\n"
      ],
      "metadata": {
        "colab": {
          "base_uri": "https://localhost:8080/"
        },
        "id": "vIKwTnCJ6qSc",
        "outputId": "87b08899-384a-4561-c93b-82cd0a0133cb"
      },
      "execution_count": null,
      "outputs": [
        {
          "output_type": "stream",
          "name": "stdout",
          "text": [
            "196/196 [==============================] - ETA: 0s - loss: 0.1971 - accuracy: 0.9454 \n",
            "Epoch 1: saving model to training_1/cp.ckpt\n",
            "196/196 [==============================] - 5438s 28s/step - loss: 0.1971 - accuracy: 0.9454\n"
          ]
        },
        {
          "output_type": "execute_result",
          "data": {
            "text/plain": [
              "<keras.callbacks.History at 0x7f92c200bcd0>"
            ]
          },
          "metadata": {},
          "execution_count": 23
        }
      ]
    },
    {
      "cell_type": "code",
      "source": [
        "cnn.save('model.h5')"
      ],
      "metadata": {
        "id": "t7n2vqCTCFq8"
      },
      "execution_count": null,
      "outputs": []
    },
    {
      "cell_type": "markdown",
      "source": [
        "<a style='text-decoration:none;line-height:16px;display:flex;color:#5B5B62;padding:10px;justify-content:end;' href='https://deepnote.com?utm_source=created-in-deepnote-cell&projectId=9aa6fced-121f-49c6-aa5e-ed34b7b6710c' target=\"_blank\">\n",
        "<img alt='Created in deepnote.com' style='display:inline;max-height:16px;margin:0px;margin-right:7.5px;' src='data:image/svg+xml;base64,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' > </img>\n",
        "Created in <span style='font-weight:600;margin-left:4px;'>Deepnote</span></a>"
      ],
      "metadata": {
        "tags": [],
        "created_in_deepnote_cell": true,
        "deepnote_cell_type": "markdown",
        "id": "mSFyxt264dtK"
      }
    }
  ],
  "nbformat": 4,
  "nbformat_minor": 0,
  "metadata": {
    "orig_nbformat": 2,
    "deepnote": {},
    "deepnote_notebook_id": "fcb77f69-4e3c-402f-8a7e-4e410d017548",
    "deepnote_execution_queue": [],
    "colab": {
      "name": "model.ipynb",
      "provenance": [],
      "collapsed_sections": []
    },
    "language_info": {
      "name": "python"
    },
    "kernelspec": {
      "name": "python3",
      "display_name": "Python 3"
    },
    "gpuClass": "standard"
  }
}